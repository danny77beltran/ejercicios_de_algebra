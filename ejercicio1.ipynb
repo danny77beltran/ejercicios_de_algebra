{
  "cells": [
    {
      "cell_type": "markdown",
      "metadata": {
        "id": "view-in-github",
        "colab_type": "text"
      },
      "source": [
        "<a href=\"https://colab.research.google.com/github/danny77beltran/ejercicios_de_algebra/blob/main/ejercicio1.ipynb\" target=\"_parent\"><img src=\"https://colab.research.google.com/assets/colab-badge.svg\" alt=\"Open In Colab\"/></a>"
      ]
    },
    {
      "cell_type": "code",
      "execution_count": null,
      "metadata": {
        "id": "UUgkyR4_oSGY"
      },
      "outputs": [],
      "source": [
        "!pip install --upgrade\n",
        "!pip install sympy\n",
        "import sympy\n"
      ]
    },
    {
      "cell_type": "code",
      "execution_count": 1,
      "metadata": {
        "colab": {
          "base_uri": "https://localhost:8080/"
        },
        "id": "SDTNrJ3frzly",
        "outputId": "e3c2dde1-1bef-49b4-d8c9-6444e4a75921"
      },
      "outputs": [
        {
          "output_type": "stream",
          "name": "stdout",
          "text": [
            "Resolviendo un sistema 2x2 con el MÉTODO DE SUSTITUCIÓN\n",
            "Forma general:\n",
            "a1*x + b1*y = c1\n",
            "a2*x + b2*y = c2\n",
            "--------------------------------------------------\n",
            "Ingrese los coeficientes de la primera ecuación (a1 b1 c1): 1 -2 1\n",
            "Ingrese los coeficientes de la segunda ecuación (a2 b2 c2): 2 3 9\n",
            "\n",
            "Ecuaciones ingresadas:\n",
            "E1: Eq(1.0*x - 2.0*y, 1.0)\n",
            "E2: Eq(2.0*x + 3.0*y, 9.0)\n",
            "\n",
            "Paso 1: Despejamos x de la primera ecuación:\n",
            "x = 2.0*y + 1.0\n",
            "\n",
            "Paso 2: Sustituimos x en la segunda ecuación:\n",
            "Ecuación en y: Eq(7.0*y + 2.0, 9.0)\n",
            "\n",
            "Paso 3: Resolviendo para y obtenemos: y = 1.00000000000000\n",
            "\n",
            "Paso 4: Sustituyendo y en la ecuación despejada obtenemos: x = 3.00000000000000\n",
            "\n",
            "✅ Solución del sistema:\n",
            "x = 3.00000000000000, y = 1.00000000000000\n"
          ]
        }
      ],
      "source": [
        "from sympy import symbols, Eq, solve\n",
        "\n",
        "# Definimos las variables\n",
        "x, y = symbols('x y')\n",
        "\n",
        "print(\"Resolviendo un sistema 2x2 con el MÉTODO DE SUSTITUCIÓN\")\n",
        "print(\"Forma general:\")\n",
        "print(\"a1*x + b1*y = c1\")\n",
        "print(\"a2*x + b2*y = c2\")\n",
        "print(\"-\" * 50)\n",
        "\n",
        "# Pedimos los coeficientes al usuario\n",
        "a1, b1, c1 = map(float, input(\"Ingrese los coeficientes de la primera ecuación (a1 b1 c1): \").split())\n",
        "a2, b2, c2 = map(float, input(\"Ingrese los coeficientes de la segunda ecuación (a2 b2 c2): \").split())\n",
        "\n",
        "# Creamos las ecuaciones\n",
        "ec1 = Eq(a1*x + b1*y, c1)\n",
        "ec2 = Eq(a2*x + b2*y, c2)\n",
        "\n",
        "print(\"\\nEcuaciones ingresadas:\")\n",
        "print(\"E1:\", ec1)\n",
        "print(\"E2:\", ec2)\n",
        "\n",
        "# Paso 1: Despejar x de la primera ecuación\n",
        "despeje_x = solve(ec1, x)[0]\n",
        "print(f\"\\nPaso 1: Despejamos x de la primera ecuación:\")\n",
        "print(f\"x = {despeje_x}\")\n",
        "\n",
        "# Paso 2: Sustituimos x en la segunda ecuación\n",
        "print(\"\\nPaso 2: Sustituimos x en la segunda ecuación:\")\n",
        "ec2_sust = ec2.subs(x, despeje_x)\n",
        "print(\"Ecuación en y:\", ec2_sust)\n",
        "\n",
        "# Paso 3: Resolver para y\n",
        "sol_y = solve(ec2_sust, y)[0]\n",
        "print(f\"\\nPaso 3: Resolviendo para y obtenemos: y = {sol_y}\")\n",
        "\n",
        "# Paso 4: Sustituir y en la ecuación de x\n",
        "sol_x = despeje_x.subs(y, sol_y)\n",
        "print(f\"\\nPaso 4: Sustituyendo y en la ecuación despejada obtenemos: x = {sol_x}\")\n",
        "\n",
        "# Solución final\n",
        "print(\"\\n✅ Solución del sistema:\")\n",
        "print(f\"x = {sol_x}, y = {sol_y}\")\n",
        "\n"
      ]
    }
  ],
  "metadata": {
    "colab": {
      "provenance": [],
      "authorship_tag": "ABX9TyMp9zGs/Kk9mtskGZi1JAll",
      "include_colab_link": true
    },
    "kernelspec": {
      "display_name": "Python 3",
      "name": "python3"
    },
    "language_info": {
      "name": "python"
    }
  },
  "nbformat": 4,
  "nbformat_minor": 0
}